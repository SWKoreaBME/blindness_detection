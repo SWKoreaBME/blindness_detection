{
 "cells": [
  {
   "cell_type": "code",
   "execution_count": 15,
   "metadata": {},
   "outputs": [
    {
     "name": "stdout",
     "output_type": "stream",
     "text": [
      "tensor(0.7928, device='cuda:0', dtype=torch.float64)\n"
     ]
    }
   ],
   "source": [
    "import torch\n",
    "from torchvision.models import resnet18\n",
    "from torch.utils.data import DataLoader\n",
    "\n",
    "from aptos_dataset import aptos_dataset\n",
    "from preprocessing import preprocessing\n",
    "\n",
    "num_classes = 5\n",
    "model_path = './checkpoint/base_classifier_model.pth'\n",
    "label_file = '/media/sangwook/MGTEC/blindness_detection_data/2019/train_2019.csv'\n",
    "data_dir = '/media/sangwook/MGTEC/blindness_detection_data/2019/test_images/'\n",
    "\n",
    "dataset = aptos_dataset(d_path=data_dir, label_file=label_file)\n",
    "dataloader = DataLoader(dataset, batch_size=8, shuffle=True)\n",
    "\n",
    "model = resnet18(pretrained=True)\n",
    "device = torch.device(\"cuda:0\" if torch.cuda.is_available() else \"cpu\")\n",
    "\n",
    "model.fc = torch.nn.Linear(in_features=51200, out_features=num_classes, bias=False)\n",
    "model.to(device)\n",
    "model.load_state_dict(torch.load(model_path))\n",
    "\n",
    "running_corrects = 0\n",
    "\n",
    "for i, i_batch in enumerate(dataloader):\n",
    "    \n",
    "#     print(i_batch['image'].size())\n",
    "#     print(i_batch['label'].size())\n",
    "    \n",
    "    labels = i_batch['label'].to(device)\n",
    "    images = i_batch['image'].to(device).float()\n",
    "    \n",
    "    outputs = model(images)\n",
    "    \n",
    "    _, preds = torch.max(outputs, 1)\n",
    "    running_corrects += torch.sum(preds == labels.data)\n",
    "\n",
    "#     break\n",
    "\n",
    "epoch_acc = running_corrects.double() / len(dataloader.dataset)\n",
    "print(epoch_acc.data)"
   ]
  },
  {
   "cell_type": "code",
   "execution_count": null,
   "metadata": {},
   "outputs": [],
   "source": []
  }
 ],
 "metadata": {
  "kernelspec": {
   "display_name": "Python 3",
   "language": "python",
   "name": "python3"
  },
  "language_info": {
   "codemirror_mode": {
    "name": "ipython",
    "version": 3
   },
   "file_extension": ".py",
   "mimetype": "text/x-python",
   "name": "python",
   "nbconvert_exporter": "python",
   "pygments_lexer": "ipython3",
   "version": "3.6.5"
  }
 },
 "nbformat": 4,
 "nbformat_minor": 2
}
